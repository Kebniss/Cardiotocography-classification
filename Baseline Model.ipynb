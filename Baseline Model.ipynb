{
 "cells": [
  {
   "cell_type": "markdown",
   "metadata": {},
   "source": [
    "# Baseline Model"
   ]
  },
  {
   "cell_type": "markdown",
   "metadata": {},
   "source": [
    "Here I am going to define a random guess model that is going to be the baseline against which"
   ]
  },
  {
   "cell_type": "code",
   "execution_count": 1,
   "metadata": {
    "collapsed": true
   },
   "outputs": [],
   "source": [
    "import pandas as pd \n",
    "import numpy as np"
   ]
  },
  {
   "cell_type": "code",
   "execution_count": 2,
   "metadata": {
    "collapsed": true
   },
   "outputs": [],
   "source": [
    "CTG = pd.read_csv(\"CTG.csv\")\n",
    "fs_labels = CTG['NSP']\n",
    "mp_labels = CTG['CLASS']\n",
    "data = CTG.drop(['CLASS', 'NSP'], axis = 1)"
   ]
  },
  {
   "cell_type": "code",
   "execution_count": 3,
   "metadata": {
    "collapsed": false
   },
   "outputs": [
    {
     "name": "stdout",
     "output_type": "stream",
     "text": [
      "The frequency of class 1 is 0.778\n",
      "The frequency of class 2 is 0.139\n",
      "The frequency of class 3 is 0.0828\n"
     ]
    }
   ],
   "source": [
    "count = np.zeros(3)\n",
    "\n",
    "for val in fs_labels:\n",
    "    count[val - 1] += 1\n",
    "        \n",
    "real_class_freq = count/len(fs_labels)\n",
    "for idx, freq in np.ndenumerate(real_class_freq):\n",
    "    print \"The frequency of class {0} is {1:.3}\".format(idx[0]+1, freq)"
   ]
  },
  {
   "cell_type": "code",
   "execution_count": 4,
   "metadata": {
    "collapsed": false
   },
   "outputs": [
    {
     "name": "stderr",
     "output_type": "stream",
     "text": [
      "C:\\Users\\Ludovica\\Anaconda2\\lib\\site-packages\\ipykernel\\__main__.py:3: SettingWithCopyWarning: \n",
      "A value is trying to be set on a copy of a slice from a DataFrame\n",
      "\n",
      "See the caveats in the documentation: http://pandas.pydata.org/pandas-docs/stable/indexing.html#indexing-view-versus-copy\n",
      "  app.launch_new_instance()\n",
      "C:\\Users\\Ludovica\\Anaconda2\\lib\\site-packages\\ipykernel\\__main__.py:7: SettingWithCopyWarning: \n",
      "A value is trying to be set on a copy of a slice from a DataFrame\n",
      "\n",
      "See the caveats in the documentation: http://pandas.pydata.org/pandas-docs/stable/indexing.html#indexing-view-versus-copy\n",
      "C:\\Users\\Ludovica\\Anaconda2\\lib\\site-packages\\ipykernel\\__main__.py:10: SettingWithCopyWarning: \n",
      "A value is trying to be set on a copy of a slice from a DataFrame\n",
      "\n",
      "See the caveats in the documentation: http://pandas.pydata.org/pandas-docs/stable/indexing.html#indexing-view-versus-copy\n"
     ]
    }
   ],
   "source": [
    "# the value of the class of normal cases is set to -1, negative (absence of disease)\n",
    "idxs = fs_labels[fs_labels == 1]\n",
    "fs_labels[idxs.index] = -1\n",
    "\n",
    "# suspicious and pathologic exams are merged in one class with positive value (presence of disease)\n",
    "idxs = fs_labels[fs_labels == 2]\n",
    "fs_labels[idxs.index] = +1\n",
    "\n",
    "idxs = fs_labels[fs_labels == 3]\n",
    "fs_labels[idxs.index] = +1\n"
   ]
  },
  {
   "cell_type": "code",
   "execution_count": null,
   "metadata": {
    "collapsed": false
   },
   "outputs": [
    {
     "name": "stderr",
     "output_type": "stream",
     "text": [
      "C:\\Users\\Ludovica\\Anaconda2\\lib\\site-packages\\ipykernel\\__main__.py:5: DeprecationWarning: using a non-integer number instead of an integer will result in an error in the future\n"
     ]
    }
   ],
   "source": [
    "def random_data(length, prc):\n",
    "    from random import shuffle\n",
    "    \n",
    "    data = np.ones(length)\n",
    "    data[0 : round(prc*length)] = -1\n",
    "    shuffle(data)\n",
    "    \n",
    "    return data\n",
    "\n",
    "from sklearn.metrics import f1_score\n",
    "\n",
    "rep = 1000000\n",
    "f1_scores = 0\n",
    "for i in range (0,rep):\n",
    "    labels = random_data(len(fs_labels), real_class_freq[0])\n",
    "    f1_scores += f1_score(fs_labels, labels, average='binary', pos_label=1)\n",
    "    \n",
    "baseline_score = f1_scores/rep\n",
    "print \"The baseline f1 score is {}\".format(baseline_score)"
   ]
  },
  {
   "cell_type": "code",
   "execution_count": null,
   "metadata": {
    "collapsed": true
   },
   "outputs": [],
   "source": [
    "from sklearn.cross_validation import train_test_split\n",
    "\n",
    "X_train, X_test, y_train, y_test = train_test_split(data, fs_labels, test_size = 0.25)"
   ]
  },
  {
   "cell_type": "code",
   "execution_count": null,
   "metadata": {
    "collapsed": true
   },
   "outputs": [],
   "source": [
    "from sklearn.dummy import DummyClassifier\n",
    "\n",
    "dummy_clf = DummyClassifier('stratified')\n",
    "\n",
    "dummy_clf.fit(X_train,y_train)\n",
    "\n",
    "pred = dummy_clf.predict(X_test)\n",
    "\n",
    "print \"The baseline f1 score is {}\".format(f1_score(y_test, pred, average='binary', pos_label=1))"
   ]
  }
 ],
 "metadata": {
  "kernelspec": {
   "display_name": "Python 2",
   "language": "python",
   "name": "python2"
  },
  "language_info": {
   "codemirror_mode": {
    "name": "ipython",
    "version": 2
   },
   "file_extension": ".py",
   "mimetype": "text/x-python",
   "name": "python",
   "nbconvert_exporter": "python",
   "pygments_lexer": "ipython2",
   "version": "2.7.11"
  }
 },
 "nbformat": 4,
 "nbformat_minor": 0
}
